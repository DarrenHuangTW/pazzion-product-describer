{
 "cells": [
  {
   "cell_type": "code",
   "execution_count": 13,
   "metadata": {},
   "outputs": [],
   "source": [
    "from IPython.display import Image, display, HTML, JSON\n",
    "import pandas as pd\n",
    "import ast\n",
    "from dotenv import load_dotenv\n",
    "import re"
   ]
  },
  {
   "cell_type": "markdown",
   "metadata": {},
   "source": [
    "#### Load Learning Examples & Testing Products"
   ]
  },
  {
   "cell_type": "code",
   "execution_count": 14,
   "metadata": {},
   "outputs": [],
   "source": [
    "def convert_string_to_list(string_list):\n",
    "    try:\n",
    "        actual_list = ast.literal_eval(string_list)\n",
    "        return actual_list\n",
    "    except ValueError as e:\n",
    "        print(f\"Error converting string to list: {e}\")\n",
    "        return None"
   ]
  },
  {
   "cell_type": "code",
   "execution_count": 15,
   "metadata": {},
   "outputs": [
    {
     "data": {
      "text/html": [
       "<div>\n",
       "<style scoped>\n",
       "    .dataframe tbody tr th:only-of-type {\n",
       "        vertical-align: middle;\n",
       "    }\n",
       "\n",
       "    .dataframe tbody tr th {\n",
       "        vertical-align: top;\n",
       "    }\n",
       "\n",
       "    .dataframe thead th {\n",
       "        text-align: right;\n",
       "    }\n",
       "</style>\n",
       "<table border=\"1\" class=\"dataframe\">\n",
       "  <thead>\n",
       "    <tr style=\"text-align: right;\">\n",
       "      <th></th>\n",
       "      <th>address</th>\n",
       "      <th>product_title</th>\n",
       "      <th>description</th>\n",
       "      <th>product_images</th>\n",
       "    </tr>\n",
       "  </thead>\n",
       "  <tbody>\n",
       "    <tr>\n",
       "      <th>0</th>\n",
       "      <td>https://www.pazzion.com/products/191-5a-fiorel...</td>\n",
       "      <td>Fiorella Boots</td>\n",
       "      <td>A perfect blend of style, comfort, and conveni...</td>\n",
       "      <td>[https://www.pazzion.com/cdn/shop/files/Fiorel...</td>\n",
       "    </tr>\n",
       "    <tr>\n",
       "      <th>1</th>\n",
       "      <td>https://www.pazzion.com/products/2203a-1-mered...</td>\n",
       "      <td>Meredith Ankle Lace-up Boots</td>\n",
       "      <td>The perfect blend of style and comfort for the...</td>\n",
       "      <td>[https://www.pazzion.com/cdn/shop/files/Meredi...</td>\n",
       "    </tr>\n",
       "    <tr>\n",
       "      <th>2</th>\n",
       "      <td>https://www.pazzion.com/products/2597-1-ingrid...</td>\n",
       "      <td>Ingrid Gold Studded Cage Patent Leather Slides</td>\n",
       "      <td>Gladiator styled sandals made in glossy patent...</td>\n",
       "      <td>[https://www.pazzion.com/cdn/shop/files/Ingrid...</td>\n",
       "    </tr>\n",
       "    <tr>\n",
       "      <th>3</th>\n",
       "      <td>https://www.pazzion.com/products/522-1-kate-un...</td>\n",
       "      <td>Kate Unlace Platform Sneakers</td>\n",
       "      <td>Athletic trainers don’t need to be dedicated t...</td>\n",
       "      <td>[https://www.pazzion.com/cdn/shop/files/KateUn...</td>\n",
       "    </tr>\n",
       "    <tr>\n",
       "      <th>4</th>\n",
       "      <td>https://www.pazzion.com/products/80-29-reagan-...</td>\n",
       "      <td>Reagan Contrast Sneakers</td>\n",
       "      <td>A pristine clean white sneaker is essential to...</td>\n",
       "      <td>[https://www.pazzion.com/cdn/shop/files/Reagan...</td>\n",
       "    </tr>\n",
       "  </tbody>\n",
       "</table>\n",
       "</div>"
      ],
      "text/plain": [
       "                                             address  \\\n",
       "0  https://www.pazzion.com/products/191-5a-fiorel...   \n",
       "1  https://www.pazzion.com/products/2203a-1-mered...   \n",
       "2  https://www.pazzion.com/products/2597-1-ingrid...   \n",
       "3  https://www.pazzion.com/products/522-1-kate-un...   \n",
       "4  https://www.pazzion.com/products/80-29-reagan-...   \n",
       "\n",
       "                                    product_title  \\\n",
       "0                                  Fiorella Boots   \n",
       "1                    Meredith Ankle Lace-up Boots   \n",
       "2  Ingrid Gold Studded Cage Patent Leather Slides   \n",
       "3                   Kate Unlace Platform Sneakers   \n",
       "4                        Reagan Contrast Sneakers   \n",
       "\n",
       "                                         description  \\\n",
       "0  A perfect blend of style, comfort, and conveni...   \n",
       "1  The perfect blend of style and comfort for the...   \n",
       "2  Gladiator styled sandals made in glossy patent...   \n",
       "3  Athletic trainers don’t need to be dedicated t...   \n",
       "4  A pristine clean white sneaker is essential to...   \n",
       "\n",
       "                                      product_images  \n",
       "0  [https://www.pazzion.com/cdn/shop/files/Fiorel...  \n",
       "1  [https://www.pazzion.com/cdn/shop/files/Meredi...  \n",
       "2  [https://www.pazzion.com/cdn/shop/files/Ingrid...  \n",
       "3  [https://www.pazzion.com/cdn/shop/files/KateUn...  \n",
       "4  [https://www.pazzion.com/cdn/shop/files/Reagan...  "
      ]
     },
     "execution_count": 15,
     "metadata": {},
     "output_type": "execute_result"
    }
   ],
   "source": [
    "examples_file_path = 'examples.csv'\n",
    "examples_df = pd.read_csv(examples_file_path)\n",
    "examples_df['product_images'] = examples_df['product_images'].apply(convert_string_to_list)\n",
    "examples_df.head()"
   ]
  },
  {
   "cell_type": "code",
   "execution_count": 16,
   "metadata": {},
   "outputs": [
    {
     "name": "stdout",
     "output_type": "stream",
     "text": [
      "address: https://www.pazzion.com/products/191-5a-fiorella-boots\n",
      "product_title: Fiorella Boots\n",
      "description: A perfect blend of style, comfort, and convenience, crafted to cater to the modern woman's needs, Fiorella is designed with a focus on ease of wear and contemporary style. These boots feature a convenient zipper closure, making them a breeze to put on and take off. No more struggling with laces or buttons; whether you're dashing through your daily routine or stepping out for a night on the town, just zip up and you're ready to conquer your day.\n",
      "product_images: ['https://www.pazzion.com/cdn/shop/files/FiorellaBoots-Camel-1.webp?v=1705915480', 'https://www.pazzion.com/cdn/shop/files/FiorellaBoots-Camel-10.webp?v=1715759531', 'https://www.pazzion.com/cdn/shop/files/FiorellaBoots-Camel-2.webp?v=1715759531', 'https://www.pazzion.com/cdn/shop/files/FiorellaBoots-Camel-3.webp?v=1715759531', 'https://www.pazzion.com/cdn/shop/files/FiorellaBoots-Camel-4.webp?v=1715759531']\n"
     ]
    }
   ],
   "source": [
    "for column, value in examples_df.iloc[0].items():\n",
    "    print(f\"{column}: {value}\")"
   ]
  },
  {
   "cell_type": "code",
   "execution_count": 17,
   "metadata": {},
   "outputs": [
    {
     "data": {
      "text/html": [
       "<div>\n",
       "<style scoped>\n",
       "    .dataframe tbody tr th:only-of-type {\n",
       "        vertical-align: middle;\n",
       "    }\n",
       "\n",
       "    .dataframe tbody tr th {\n",
       "        vertical-align: top;\n",
       "    }\n",
       "\n",
       "    .dataframe thead th {\n",
       "        text-align: right;\n",
       "    }\n",
       "</style>\n",
       "<table border=\"1\" class=\"dataframe\">\n",
       "  <thead>\n",
       "    <tr style=\"text-align: right;\">\n",
       "      <th></th>\n",
       "      <th>address</th>\n",
       "      <th>product_title</th>\n",
       "      <th>product_images</th>\n",
       "    </tr>\n",
       "  </thead>\n",
       "  <tbody>\n",
       "    <tr>\n",
       "      <th>0</th>\n",
       "      <td>https://www.pazzion.com/products/c2257-3-joyce...</td>\n",
       "      <td>Joyce Pearl Patent Slingback Heels</td>\n",
       "      <td>[https://www.pazzion.com/cdn/shop/files/JoyceP...</td>\n",
       "    </tr>\n",
       "    <tr>\n",
       "      <th>1</th>\n",
       "      <td>https://www.pazzion.com/products/122-5-maia-pe...</td>\n",
       "      <td>Maia Pearl Décor Bow Slingbacks Kitten Heels</td>\n",
       "      <td>[https://www.pazzion.com/cdn/shop/files/MaiaPe...</td>\n",
       "    </tr>\n",
       "    <tr>\n",
       "      <th>2</th>\n",
       "      <td>https://www.pazzion.com/products/6313-1-aureli...</td>\n",
       "      <td>Aurelia Strappy Espadrilles</td>\n",
       "      <td>[https://www.pazzion.com/cdn/shop/files/Aureli...</td>\n",
       "    </tr>\n",
       "    <tr>\n",
       "      <th>3</th>\n",
       "      <td>https://www.pazzion.com/products/1919-1-margot...</td>\n",
       "      <td>Margot Tweed Lace-up Espadrilles</td>\n",
       "      <td>[https://www.pazzion.com/cdn/shop/files/Margot...</td>\n",
       "    </tr>\n",
       "    <tr>\n",
       "      <th>4</th>\n",
       "      <td>https://www.pazzion.com/products/3899-9-fallon...</td>\n",
       "      <td>Fallon Leather Ankle Boots</td>\n",
       "      <td>[https://www.pazzion.com/cdn/shop/files/Fallon...</td>\n",
       "    </tr>\n",
       "  </tbody>\n",
       "</table>\n",
       "</div>"
      ],
      "text/plain": [
       "                                             address  \\\n",
       "0  https://www.pazzion.com/products/c2257-3-joyce...   \n",
       "1  https://www.pazzion.com/products/122-5-maia-pe...   \n",
       "2  https://www.pazzion.com/products/6313-1-aureli...   \n",
       "3  https://www.pazzion.com/products/1919-1-margot...   \n",
       "4  https://www.pazzion.com/products/3899-9-fallon...   \n",
       "\n",
       "                                  product_title  \\\n",
       "0            Joyce Pearl Patent Slingback Heels   \n",
       "1  Maia Pearl Décor Bow Slingbacks Kitten Heels   \n",
       "2                   Aurelia Strappy Espadrilles   \n",
       "3              Margot Tweed Lace-up Espadrilles   \n",
       "4                    Fallon Leather Ankle Boots   \n",
       "\n",
       "                                      product_images  \n",
       "0  [https://www.pazzion.com/cdn/shop/files/JoyceP...  \n",
       "1  [https://www.pazzion.com/cdn/shop/files/MaiaPe...  \n",
       "2  [https://www.pazzion.com/cdn/shop/files/Aureli...  \n",
       "3  [https://www.pazzion.com/cdn/shop/files/Margot...  \n",
       "4  [https://www.pazzion.com/cdn/shop/files/Fallon...  "
      ]
     },
     "execution_count": 17,
     "metadata": {},
     "output_type": "execute_result"
    }
   ],
   "source": [
    "products = 'test_products.csv'\n",
    "products_df = pd.read_csv(products)\n",
    "products_df['product_images'] = products_df['product_images'].apply(convert_string_to_list)\n",
    "products_df.head()"
   ]
  },
  {
   "cell_type": "markdown",
   "metadata": {},
   "source": [
    "#### Create a Few-Shot Prompt"
   ]
  },
  {
   "cell_type": "code",
   "execution_count": 18,
   "metadata": {},
   "outputs": [],
   "source": [
    "with open('prompts/copywriting_system_prompt_v2.txt', 'r') as file:\n",
    "    copywriting_system_prompt_v2 = file.read()"
   ]
  },
  {
   "cell_type": "code",
   "execution_count": 19,
   "metadata": {},
   "outputs": [],
   "source": [
    "def create_example_prompt(df):\n",
    "    example_prompt = []\n",
    "\n",
    "    for index, row in df.iterrows():\n",
    "        product_title = row['product_title']\n",
    "        product_description = row['description']\n",
    "        product_images = row['product_images']\n",
    "\n",
    "\n",
    "        user_content = [{\"type\": \"text\", \"text\": f\"<product_title>{product_title}</product_title>\"}]\n",
    "\n",
    "        for image_url in product_images:\n",
    "            user_content.append({\n",
    "                \"type\": \"image_url\",\n",
    "                \"image_url\": {\n",
    "                    \"url\": image_url,\n",
    "                }\n",
    "            })\n",
    "\n",
    "        example_prompt.append({\n",
    "            \"role\": \"user\",\n",
    "            \"content\": user_content\n",
    "        })\n",
    "        \n",
    "        example_prompt.append({\n",
    "            \"role\": \"assistant\",\n",
    "            \"content\": [\n",
    "                {\"type\": \"text\", \"text\": \"<product_description>\"+product_description+\"</product_description>\"}\n",
    "            ]\n",
    "        })\n",
    "    \n",
    "    return example_prompt"
   ]
  },
  {
   "cell_type": "code",
   "execution_count": 20,
   "metadata": {},
   "outputs": [],
   "source": [
    "def create_user_prompt(row):\n",
    "    user_prompt = []\n",
    "\n",
    "    product_title = row['product_title']\n",
    "    product_images = row['product_images']\n",
    "    \n",
    "    user_content = [{\"type\": \"text\", \"text\": f\"<product_title>{product_title}</product_title>\"}]\n",
    "\n",
    "    for image_url in product_images:\n",
    "        user_content.append({\n",
    "            \"type\": \"image_url\",\n",
    "            \"image_url\": {\n",
    "                \"url\": image_url,\n",
    "            }\n",
    "        })\n",
    "    \n",
    "    user_prompt.append({\n",
    "            \"role\": \"user\",\n",
    "            \"content\": user_content\n",
    "        })\n",
    "    \n",
    "    return user_prompt"
   ]
  },
  {
   "cell_type": "code",
   "execution_count": 21,
   "metadata": {},
   "outputs": [
    {
     "data": {
      "text/plain": [
       "[{'role': 'system',\n",
       "  'content': 'You are an AI assistant tasked with generating product descriptions based on the provided product title and images.\\n\\nPresent your product description within XML tags as follows:\\n<product_description>\\n[Your written product description goes here]\\n</product_description>'},\n",
       " {'role': 'user',\n",
       "  'content': [{'type': 'text',\n",
       "    'text': '<product_title>Fiorella Boots</product_title>'},\n",
       "   {'type': 'image_url',\n",
       "    'image_url': {'url': 'https://www.pazzion.com/cdn/shop/files/FiorellaBoots-Camel-1.webp?v=1705915480'}},\n",
       "   {'type': 'image_url',\n",
       "    'image_url': {'url': 'https://www.pazzion.com/cdn/shop/files/FiorellaBoots-Camel-10.webp?v=1715759531'}},\n",
       "   {'type': 'image_url',\n",
       "    'image_url': {'url': 'https://www.pazzion.com/cdn/shop/files/FiorellaBoots-Camel-2.webp?v=1715759531'}},\n",
       "   {'type': 'image_url',\n",
       "    'image_url': {'url': 'https://www.pazzion.com/cdn/shop/files/FiorellaBoots-Camel-3.webp?v=1715759531'}},\n",
       "   {'type': 'image_url',\n",
       "    'image_url': {'url': 'https://www.pazzion.com/cdn/shop/files/FiorellaBoots-Camel-4.webp?v=1715759531'}}]},\n",
       " {'role': 'assistant',\n",
       "  'content': [{'type': 'text',\n",
       "    'text': \"<product_description>A perfect blend of style, comfort, and convenience, crafted to cater to the modern woman's needs, Fiorella is designed with a focus on ease of wear and contemporary style. These boots feature a convenient zipper closure, making them a breeze to put on and take off. No more struggling with laces or buttons; whether you're dashing through your daily routine or stepping out for a night on the town, just zip up and you're ready to conquer your day.</product_description>\"}]},\n",
       " {'role': 'user',\n",
       "  'content': [{'type': 'text',\n",
       "    'text': '<product_title>Meredith Ankle Lace-up Boots</product_title>'},\n",
       "   {'type': 'image_url',\n",
       "    'image_url': {'url': 'https://www.pazzion.com/cdn/shop/files/MeredithAnkleLace-upBoots-Yellow-1.webp?v=1705916832'}},\n",
       "   {'type': 'image_url',\n",
       "    'image_url': {'url': 'https://www.pazzion.com/cdn/shop/files/MeredithAnkleLace-upBoots-Yellow-2.webp?v=1705916839'}},\n",
       "   {'type': 'image_url',\n",
       "    'image_url': {'url': 'https://www.pazzion.com/cdn/shop/files/MeredithAnkleLace-upBoots-Yellow-3.webp?v=1705904695'}},\n",
       "   {'type': 'image_url',\n",
       "    'image_url': {'url': 'https://www.pazzion.com/cdn/shop/files/MeredithAnkleLace-upBoots-Yellow-4.webp?v=1705916845'}},\n",
       "   {'type': 'image_url',\n",
       "    'image_url': {'url': 'https://www.pazzion.com/cdn/shop/files/MeredithAnkleLace-upBoots-Yellow-5.webp?v=1705916850'}}]},\n",
       " {'role': 'assistant',\n",
       "  'content': [{'type': 'text',\n",
       "    'text': '<product_description>The perfect blend of style and comfort for the modern adventurer. Crafted with care and precision, these boots feature a versatile ankle height that offers both support and mobility.The adjustable lace-up closure and plush, cushioned insole that cradles your feet with every step allows you to achieve a customized fit for all-day comfort. Unleash your inner explorer and elevate your style with the chic and comfortable allure of Meredith. </product_description>'}]},\n",
       " {'role': 'user',\n",
       "  'content': [{'type': 'text',\n",
       "    'text': '<product_title>Ingrid Gold Studded Cage Patent Leather Slides</product_title>'},\n",
       "   {'type': 'image_url',\n",
       "    'image_url': {'url': 'https://www.pazzion.com/cdn/shop/files/IngridGoldStuddedCagePatentLeatherSlides-Nude-1.jpg?v=1715049861'}},\n",
       "   {'type': 'image_url',\n",
       "    'image_url': {'url': 'https://www.pazzion.com/cdn/shop/files/IngridGoldStuddedCagePatentLeatherSlides-Nude-2.png?v=1715049880'}},\n",
       "   {'type': 'image_url',\n",
       "    'image_url': {'url': 'https://www.pazzion.com/cdn/shop/files/IngridGoldStuddedCagePatentLeatherSlides-Nude-3.jpg?v=1715049870'}},\n",
       "   {'type': 'image_url',\n",
       "    'image_url': {'url': 'https://www.pazzion.com/cdn/shop/files/IngridGoldStuddedCagePatentLeatherSlides-Nude-4.jpg?v=1715049889'}},\n",
       "   {'type': 'image_url',\n",
       "    'image_url': {'url': 'https://www.pazzion.com/cdn/shop/files/IngridGoldStuddedCagePatentLeatherSlides-Nude-5.jpg?v=1715049898'}}]},\n",
       " {'role': 'assistant',\n",
       "  'content': [{'type': 'text',\n",
       "    'text': '<product_description>Gladiator styled sandals made in glossy patent leather with a caged vamp that frames your feet elegantly! Strut on comfortably and confidently with its soft padded footbeds and stylish outlook. Adorned with gold-toned studs along the caged vamp, you will look especially cool in either distressed denim, floaty skirts or breezy dresses. Go for a bold red classic pedicure to stand out!</product_description>'}]},\n",
       " {'role': 'user',\n",
       "  'content': [{'type': 'text',\n",
       "    'text': '<product_title>Kate Unlace Platform Sneakers</product_title>'},\n",
       "   {'type': 'image_url',\n",
       "    'image_url': {'url': 'https://www.pazzion.com/cdn/shop/files/KateUnlacePlatformSneakers-White-1.jpg?v=1705899597'}},\n",
       "   {'type': 'image_url',\n",
       "    'image_url': {'url': 'https://www.pazzion.com/cdn/shop/files/KateUnlacePlatformSneakers-White-2.webp?v=1705899602'}},\n",
       "   {'type': 'image_url',\n",
       "    'image_url': {'url': 'https://www.pazzion.com/cdn/shop/files/KateUnlacePlatformSneakers-White-3.jpg?v=1705899608'}},\n",
       "   {'type': 'image_url',\n",
       "    'image_url': {'url': 'https://www.pazzion.com/cdn/shop/files/KateUnlacePlatformSneakers-White-4.jpg?v=1705899615'}},\n",
       "   {'type': 'image_url',\n",
       "    'image_url': {'url': 'https://www.pazzion.com/cdn/shop/files/KateUnlacePlatformSneakers-White-5.jpg?v=1705899621'}}]},\n",
       " {'role': 'assistant',\n",
       "  'content': [{'type': 'text',\n",
       "    'text': '<product_description>Athletic trainers don’t need to be dedicated to workout sessions only. Designed with a silhouette ideal for everyday wear with an elevated platform sole, cowhide upper and a shock-absorbing sole. They also align with the chunky sneaker trend, which gives the gym essential street-style approval. Pair with anything from dresses to wide legged pants.\\xa0</product_description>'}]},\n",
       " {'role': 'user',\n",
       "  'content': [{'type': 'text',\n",
       "    'text': '<product_title>Reagan Contrast Sneakers</product_title>'},\n",
       "   {'type': 'image_url',\n",
       "    'image_url': {'url': 'https://www.pazzion.com/cdn/shop/files/ReaganContrastSneakers-Yellow-1.jpg?v=1705908944'}},\n",
       "   {'type': 'image_url',\n",
       "    'image_url': {'url': 'https://www.pazzion.com/cdn/shop/files/ReaganContrastSneakers-Yellow-2.jpg?v=1705908949'}},\n",
       "   {'type': 'image_url',\n",
       "    'image_url': {'url': 'https://www.pazzion.com/cdn/shop/files/ReaganContrastSneakers-Yellow-3.jpg?v=1705908954'}},\n",
       "   {'type': 'image_url',\n",
       "    'image_url': {'url': 'https://www.pazzion.com/cdn/shop/files/ReaganContrastSneakers-Yellow-4.jpg?v=1705908959'}},\n",
       "   {'type': 'image_url',\n",
       "    'image_url': {'url': 'https://www.pazzion.com/cdn/shop/files/ReaganContrastSneakers-Yellow-5.jpg?v=1705908963'}}]},\n",
       " {'role': 'assistant',\n",
       "  'content': [{'type': 'text',\n",
       "    'text': '<product_description>A pristine clean white sneaker is essential to any wardrobe. Timeless style that will go with everything from jeans to dresses. Set on a vulcanized rubber sole that flexes with every step, soft padded footbed for extra comfort, the classic white sneakers get a changeover thanks to the added pop of color at the heel. Wear them in floaty dresses, sharp tailoring or a classic pair of jeans for a relaxed weekend edit to convey an off-beat mood.</product_description>'}]},\n",
       " {'role': 'user',\n",
       "  'content': [{'type': 'text',\n",
       "    'text': '<product_title>Marcel Classic Buckle Loafers</product_title>'},\n",
       "   {'type': 'image_url',\n",
       "    'image_url': {'url': 'https://www.pazzion.com/cdn/shop/files/MarcelClassicBuckleLoafers-Black-1.webp?v=1705904220'}},\n",
       "   {'type': 'image_url',\n",
       "    'image_url': {'url': 'https://www.pazzion.com/cdn/shop/files/MarcelClassicBuckleLoafers-Black-12.webp?v=1706767991'}},\n",
       "   {'type': 'image_url',\n",
       "    'image_url': {'url': 'https://www.pazzion.com/cdn/shop/files/MarcelClassicBuckleLoafers-Black-2.webp?v=1706767991'}},\n",
       "   {'type': 'image_url',\n",
       "    'image_url': {'url': 'https://www.pazzion.com/cdn/shop/files/MarcelClassicBuckleLoafers-Black-11.webp?v=1706767991'}},\n",
       "   {'type': 'image_url',\n",
       "    'image_url': {'url': 'https://www.pazzion.com/cdn/shop/files/MarcelClassicBuckleLoafers-Black-3.webp?v=1706767991'}}]},\n",
       " {'role': 'assistant',\n",
       "  'content': [{'type': 'text',\n",
       "    'text': '<product_description>Imbued with intricate craftsmanship, supple leather and square-toe comfort, Marcel is the essential loafer made for fuss-free everyday. Finished with minimalistic gold buckles, they look put-together with any ensemble. Style yours with a classic cotton shirt and jeans, or tailoring suited for the office.\\xa0</product_description>'}]},\n",
       " {'role': 'user',\n",
       "  'content': [{'type': 'text',\n",
       "    'text': '<product_title>Arwen Classic Metal Buckle Leather Loafers</product_title>'},\n",
       "   {'type': 'image_url',\n",
       "    'image_url': {'url': 'https://www.pazzion.com/cdn/shop/files/ArwenClassicMetalBuckleLeatherLoafers-Beige-1.webp?v=1705648923'}},\n",
       "   {'type': 'image_url',\n",
       "    'image_url': {'url': 'https://www.pazzion.com/cdn/shop/files/ArwenClassicMetalBuckleLeatherLoafers-Beige-2.webp?v=1705648928'}},\n",
       "   {'type': 'image_url',\n",
       "    'image_url': {'url': 'https://www.pazzion.com/cdn/shop/files/ArwenClassicMetalBuckleLeatherLoafers-Beige-3.webp?v=1705648933'}},\n",
       "   {'type': 'image_url',\n",
       "    'image_url': {'url': 'https://www.pazzion.com/cdn/shop/files/ArwenClassicMetalBuckleLeatherLoafers-Beige-4.webp?v=1705648937'}},\n",
       "   {'type': 'image_url',\n",
       "    'image_url': {'url': 'https://www.pazzion.com/cdn/shop/files/ArwenClassicMetalBuckleLeatherLoafers-Beige-5.webp?v=1705648941'}}]},\n",
       " {'role': 'assistant',\n",
       "  'content': [{'type': 'text',\n",
       "    'text': '<product_description>Refine your work wear edits with this classic pair of loafers made of supple soft leather and padded insoles for a comfortable fit. Decorated with a chic signature gold hardware at the vamp, it adds charm to your everyday edits. Style yours with pleated skirt or work pants for a chic look.</product_description>'}]},\n",
       " {'role': 'user',\n",
       "  'content': [{'type': 'text',\n",
       "    'text': '<product_title>Valentina Classic Low Heels</product_title>'},\n",
       "   {'type': 'image_url',\n",
       "    'image_url': {'url': 'https://www.pazzion.com/cdn/shop/files/ValentinaClassicLowHeels-Khaki-1.jpg?v=1705912606'}},\n",
       "   {'type': 'image_url',\n",
       "    'image_url': {'url': 'https://www.pazzion.com/cdn/shop/files/ValentinaClassicLowHeels-Khaki-10.webp?v=1706767677'}},\n",
       "   {'type': 'image_url',\n",
       "    'image_url': {'url': 'https://www.pazzion.com/cdn/shop/files/ValentinaClassicLowHeels-Khaki-2.jpg?v=1706767677'}},\n",
       "   {'type': 'image_url',\n",
       "    'image_url': {'url': 'https://www.pazzion.com/cdn/shop/files/ValentinaClassicLowHeels-Khaki-9.webp?v=1706767677'}},\n",
       "   {'type': 'image_url',\n",
       "    'image_url': {'url': 'https://www.pazzion.com/cdn/shop/files/ValentinaClassicLowHeels-Khaki-3.jpg?v=1706767677'}}]},\n",
       " {'role': 'assistant',\n",
       "  'content': [{'type': 'text',\n",
       "    'text': '<product_description>This simplistic heel crafted in lambskin is the perfect pair suited for any occasion. Be it a work or just a casual day out, slip into this pair of heels to easily match any of your outfits.</product_description>'}]},\n",
       " {'role': 'user',\n",
       "  'content': [{'type': 'text',\n",
       "    'text': '<product_title>Venette Studded Sandals</product_title>'},\n",
       "   {'type': 'image_url',\n",
       "    'image_url': {'url': 'https://www.pazzion.com/cdn/shop/files/VenetteStuddedSandals-Almond-1.jpg?v=1705912806'}},\n",
       "   {'type': 'image_url',\n",
       "    'image_url': {'url': 'https://www.pazzion.com/cdn/shop/files/VenetteStuddedSandals-Almond-2.jpg?v=1705912811'}},\n",
       "   {'type': 'image_url',\n",
       "    'image_url': {'url': 'https://www.pazzion.com/cdn/shop/files/VenetteStuddedSandals-Almond-3.jpg?v=1705912817'}},\n",
       "   {'type': 'image_url',\n",
       "    'image_url': {'url': 'https://www.pazzion.com/cdn/shop/files/VenetteStuddedSandals-Almond-4.jpg?v=1705912821'}},\n",
       "   {'type': 'image_url',\n",
       "    'image_url': {'url': 'https://www.pazzion.com/cdn/shop/files/VenetteStuddedSandals-Almond-5.jpg?v=1705912826'}}]},\n",
       " {'role': 'assistant',\n",
       "  'content': [{'type': 'text',\n",
       "    'text': '<product_description>Your summer time wardrobe is about to get a major upgrade! Lined with studded embellishments and designed with an adjustable strap to offer a secure and comfortable fit, these patent sandals are everything a girl could ask for this season. These polished casual shoes will elevate any outfit.\\xa0 Find yourself reaching for this pair to dress up everything from jeans to a sultry all-black evening look.</product_description>'}]},\n",
       " {'role': 'user',\n",
       "  'content': [{'type': 'text',\n",
       "    'text': '<product_title>Floret Ballerinas</product_title>'},\n",
       "   {'type': 'image_url',\n",
       "    'image_url': {'url': 'https://www.pazzion.com/cdn/shop/files/FloretBallerinas-Almond-1.jpg?v=1705892943'}},\n",
       "   {'type': 'image_url',\n",
       "    'image_url': {'url': 'https://www.pazzion.com/cdn/shop/files/FloretBallerinas-Almond-4.jpg?v=1715831776'}},\n",
       "   {'type': 'image_url',\n",
       "    'image_url': {'url': 'https://www.pazzion.com/cdn/shop/files/FloretBallerinas-Almond-3.jpg?v=1715831776'}},\n",
       "   {'type': 'image_url',\n",
       "    'image_url': {'url': 'https://www.pazzion.com/cdn/shop/files/FloretBallerinas-Almond-5.jpg?v=1705892976'}},\n",
       "   {'type': 'image_url',\n",
       "    'image_url': {'url': 'https://www.pazzion.com/cdn/shop/files/FloretBallerinas-Almond-6.jpg?v=1705892983'}}]},\n",
       " {'role': 'assistant',\n",
       "  'content': [{'type': 'text',\n",
       "    'text': '<product_description>Our floret ballerinas are perfect for days when you want an extra touch of class. Beautifully crafted in black and almond, the intricate floweret design offers a premium on sophistication, while the contrast hues gives a hint of femininity. Slip them on and off you go with this highly versatile pair that will match with everything in your closet from dresses to jeans. Pair it with a classic minimal leather shoulder bag for an ultra famine look.\\xa0</product_description>'}]},\n",
       " {'role': 'user',\n",
       "  'content': [{'type': 'text',\n",
       "    'text': '<product_title>Blythe Lambskin Toe Cap Block Heels</product_title>'},\n",
       "   {'type': 'image_url',\n",
       "    'image_url': {'url': 'https://www.pazzion.com/cdn/shop/files/BlytheLambskinToeCapBlockHeels-Almond-1.jpg?v=1706864278'}},\n",
       "   {'type': 'image_url',\n",
       "    'image_url': {'url': 'https://www.pazzion.com/cdn/shop/files/BlytheLambskinToeCapBlockHeels-Almond-2.webp?v=1706864285'}},\n",
       "   {'type': 'image_url',\n",
       "    'image_url': {'url': 'https://www.pazzion.com/cdn/shop/files/BlytheLambskinToeCapBlockHeels-Almond-3_b74e8ae5-faf8-40a0-a044-416c9c3f45ce.jpg?v=1706864291'}},\n",
       "   {'type': 'image_url',\n",
       "    'image_url': {'url': 'https://www.pazzion.com/cdn/shop/files/BlytheLambskinToeCapBlockHeels-Almond-4.webp?v=1706864297'}},\n",
       "   {'type': 'image_url',\n",
       "    'image_url': {'url': 'https://www.pazzion.com/cdn/shop/files/BlytheLambskinToeCapBlockHeels-Almond-5.jpg?v=1706864303'}}]},\n",
       " {'role': 'assistant',\n",
       "  'content': [{'type': 'text',\n",
       "    'text': '<product_description>A play on colours and illusions, these heels are elegant wardrobe additions for the season. Crafted with a contrast toe cap with an open back, mid block heel and buckle fastening. This versatile style can be teamed with feminine dresses or skinny jeans.</product_description>'}]},\n",
       " {'role': 'user',\n",
       "  'content': [{'type': 'text',\n",
       "    'text': '<product_title>Celina Strappy Flats</product_title>'},\n",
       "   {'type': 'image_url',\n",
       "    'image_url': {'url': 'https://www.pazzion.com/cdn/shop/files/CelinaStrappyFlats-Gold-1.jpg?v=1705653473'}},\n",
       "   {'type': 'image_url',\n",
       "    'image_url': {'url': 'https://www.pazzion.com/cdn/shop/files/CelinaStrappyFlats-Gold-2.webp?v=1705653477'}},\n",
       "   {'type': 'image_url',\n",
       "    'image_url': {'url': 'https://www.pazzion.com/cdn/shop/files/CelinaStrappyFlats-Gold-3.jpg?v=1705653481'}},\n",
       "   {'type': 'image_url',\n",
       "    'image_url': {'url': 'https://www.pazzion.com/cdn/shop/files/CelinaStrappyFlats-Gold-7.webp?v=1715822725'}},\n",
       "   {'type': 'image_url',\n",
       "    'image_url': {'url': 'https://www.pazzion.com/cdn/shop/files/CelinaStrappyFlats-Gold-4.jpg?v=1715822725'}}]},\n",
       " {'role': 'assistant',\n",
       "  'content': [{'type': 'text',\n",
       "    'text': '<product_description>Our all-time best seller design in this season’s subtle elegant colors! Feature classic strappy design in comfy leatherette, this is all cool girls’ warm weather essential.</product_description>'}]},\n",
       " {'role': 'user',\n",
       "  'content': [{'type': 'text',\n",
       "    'text': '<product_title>Joyce Pearl Patent Slingback Heels</product_title>'},\n",
       "   {'type': 'image_url',\n",
       "    'image_url': {'url': 'https://www.pazzion.com/cdn/shop/files/JoycePearlPatentSlingbackHeels-Beige-1.jpg?v=1705898929'}},\n",
       "   {'type': 'image_url',\n",
       "    'image_url': {'url': 'https://www.pazzion.com/cdn/shop/files/JoycePearlPatentSlingbackHeels-Beige-2.jpg?v=1705898934'}},\n",
       "   {'type': 'image_url',\n",
       "    'image_url': {'url': 'https://www.pazzion.com/cdn/shop/files/JoycePearlPatentSlingbackHeels-Beige-3.jpg?v=1705898939'}},\n",
       "   {'type': 'image_url',\n",
       "    'image_url': {'url': 'https://www.pazzion.com/cdn/shop/files/JoycePearlPatentSlingbackHeels-Beige-4.jpg?v=1705898944'}},\n",
       "   {'type': 'image_url',\n",
       "    'image_url': {'url': 'https://www.pazzion.com/cdn/shop/files/JoycePearlPatentSlingbackHeels-Beige-5.jpg?v=1705898949'}}]}]"
      ]
     },
     "execution_count": 21,
     "metadata": {},
     "output_type": "execute_result"
    }
   ],
   "source": [
    "## Visualize the prompt (message_list)\n",
    "## https://jsoneditoronline.org/ \n",
    "\n",
    "first_product = products_df.iloc[0]\n",
    "\n",
    "example_prompt = create_example_prompt(examples_df)\n",
    "user_prompt = create_user_prompt(first_product)\n",
    "\n",
    "copywriter_message_list = [{\"role\": \"system\", \"content\": copywriting_system_prompt_v2}] + example_prompt + user_prompt\n",
    "copywriter_message_list\n"
   ]
  },
  {
   "cell_type": "markdown",
   "metadata": {},
   "source": [
    "## LLM"
   ]
  },
  {
   "cell_type": "markdown",
   "metadata": {},
   "source": [
    "#### GPT-4o"
   ]
  },
  {
   "cell_type": "code",
   "execution_count": 5,
   "metadata": {},
   "outputs": [],
   "source": [
    "from openai import OpenAI\n",
    "from dotenv import load_dotenv\n",
    "load_dotenv()\n",
    "client = OpenAI()"
   ]
  },
  {
   "cell_type": "markdown",
   "metadata": {},
   "source": [
    "##### Copywriter"
   ]
  },
  {
   "cell_type": "code",
   "execution_count": 6,
   "metadata": {},
   "outputs": [],
   "source": [
    "def describe_image(message_list):\n",
    "    try:\n",
    "        response = client.chat.completions.create(\n",
    "            model=\"gpt-4o\",\n",
    "            messages=message_list,\n",
    "            max_tokens=4000,\n",
    "            temperature=0.8 # 0~1, higher value, more creative \n",
    "        )\n",
    "        return response.choices[0].message.content\n",
    "    except Exception as e:\n",
    "        return str(e)\n",
    "    # return response.choices[0].message.content, response.usage"
   ]
  },
  {
   "cell_type": "code",
   "execution_count": 7,
   "metadata": {},
   "outputs": [],
   "source": [
    "def extract_product_description(xml_string):\n",
    "    match = re.search(r'<product_description>\\s*(.*?)\\s*</product_description>|<revised_description>\\s*(.*?)\\s*</revised_description>', xml_string, re.DOTALL)\n",
    "    if match:\n",
    "        return match.group(1).strip() if match.group(1) else match.group(2).strip()\n",
    "    return None"
   ]
  },
  {
   "cell_type": "code",
   "execution_count": null,
   "metadata": {},
   "outputs": [],
   "source": [
    "first_product = products_df.iloc[0]\n",
    "\n",
    "print(f\"Product Title: \"+ first_product['product_title'])\n",
    "print(f\"Address: \"+ first_product['address'])\n",
    "print(\"Product Images:\")\n",
    "for image_url in first_product['product_images']:\n",
    "    print(image_url)\n",
    "    \n",
    "display(Image(url=first_product['product_images'][0], width=400, height=400))\n",
    "\n",
    "llm_description = describe_image(copywriter_message_list)\n",
    "\n",
    "llm_description = extract_product_description(llm_description)\n",
    "display(HTML(f\"<div style='word-wrap: break-word; width: 100;'>{llm_description}</div>\"))\n"
   ]
  },
  {
   "cell_type": "markdown",
   "metadata": {},
   "source": [
    "##### Reviewer"
   ]
  },
  {
   "cell_type": "code",
   "execution_count": null,
   "metadata": {},
   "outputs": [],
   "source": [
    "with open('prompts/reviewer_system_prompt_v2.txt', 'r') as file:\n",
    "    reviewer_system_prompt_v2 = file.read()\n",
    "\n",
    "with open('prompts/reviewer_user_prompt_a_v2.txt', 'r') as file:\n",
    "    reviewer_user_prompt_a_v2 = file.read()\n",
    "\n",
    "with open('prompts/reviewer_user_prompt_b_v2.txt', 'r') as file:\n",
    "    reviewer_user_prompt_b_v2 = file.read()"
   ]
  },
  {
   "cell_type": "code",
   "execution_count": 8,
   "metadata": {},
   "outputs": [],
   "source": [
    "def review_copy(row, llm_description):\n",
    "    messages = [\n",
    "        {\n",
    "            \"role\": \"system\",\n",
    "            \"content\": reviewer_system_prompt_v2\n",
    "        },\n",
    "        {\n",
    "            \"role\": \"user\",\n",
    "            \"content\": [\n",
    "                {\"type\": \"text\", \"text\": reviewer_user_prompt_a_v2.replace(\"{{PRODUCT_TITLE}}\", row['product_title']).replace(\"{{GENERATED_DESCRIPTION}}\", llm_description)}\n",
    "            ]\n",
    "        }\n",
    "    ]\n",
    "       \n",
    "    for image_url in row['product_images']:\n",
    "        messages[1][\"content\"].append({\n",
    "            \"type\": \"image_url\",\n",
    "            \"image_url\": {\n",
    "                \"url\": image_url,\n",
    "            }\n",
    "        })\n",
    "\n",
    "    messages[1][\"content\"].append({\"type\": \"text\", \"text\": reviewer_user_prompt_b_v2})\n",
    "\n",
    "    try:\n",
    "        response = client.chat.completions.create(\n",
    "            model=\"gpt-4o\",\n",
    "            messages=messages,\n",
    "            max_tokens=4000,\n",
    "            temperature=0.8 \n",
    "        )\n",
    "        return response.choices[0].message.content\n",
    "    except Exception as e:\n",
    "        return str(e)"
   ]
  },
  {
   "cell_type": "code",
   "execution_count": null,
   "metadata": {},
   "outputs": [],
   "source": [
    "review_copy(llm_description)"
   ]
  },
  {
   "cell_type": "code",
   "execution_count": null,
   "metadata": {},
   "outputs": [],
   "source": [
    "## cost (12 examples >> 60 images)\n",
    "\n",
    "## time: 30~60s\n",
    "## input_tokens = 55567 >> $0.2778\n",
    "## output_tokens = 104 >> 0.00156"
   ]
  },
  {
   "cell_type": "markdown",
   "metadata": {},
   "source": [
    "#### Claude"
   ]
  },
  {
   "cell_type": "code",
   "execution_count": null,
   "metadata": {},
   "outputs": [],
   "source": [
    "df_example = pd.read_csv('claude/examples_base64.csv')\n",
    "df = pd.read_csv('claude/test_products_base64.csv')\n",
    "\n",
    "def create_example_prompt(df):\n",
    "    example_prompt = []\n",
    "\n",
    "    for index, row in df.iterrows():\n",
    "        product_title = row['product_title']\n",
    "        product_images_base64 = eval(row['product_images_base64'])\n",
    "        media_type = eval(row['media_type'])\n",
    "        product_description = row['description']\n",
    "\n",
    "        user_content = [\n",
    "            {\"type\": \"text\", \"text\": \"Product Title:\"},\n",
    "            {\"type\": \"text\", \"text\": product_title},\n",
    "            {\"type\": \"text\", \"text\": \"Product Images:\"}\n",
    "        ]\n",
    "\n",
    "        for img_base64, m_type in zip(product_images_base64, media_type):\n",
    "            user_content.append({\"type\": \"image\", \"source\": {\"type\": \"base64\", \"media_type\": m_type, \"data\": img_base64}})\n",
    "\n",
    "        user_content.append({\"type\": \"text\", \"text\": \"Based on the product images, product title, and guidelines provided, write a compelling product description. Present your final product description within <tagline> and <why_youll_love_it> tags.\"})\n",
    "\n",
    "        example_prompt.append({\n",
    "            \"role\": \"user\",\n",
    "            \"content\": user_content\n",
    "        })\n",
    "\n",
    "        example_prompt.append({\n",
    "            \"role\": \"assistant\",\n",
    "            \"content\": [\n",
    "                {\"type\": \"text\", \"text\": product_description}\n",
    "            ]\n",
    "        })\n",
    "    \n",
    "    return example_prompt\n",
    "\n",
    "def create_user_prompt(row):\n",
    "\n",
    "    acutal_prompt = []\n",
    "\n",
    "    product_title = row['product_title']\n",
    "    product_images_base64 = eval(row['product_images_base64'])\n",
    "    media_type = eval(row['media_type'])\n",
    "    \n",
    "    user_content = [\n",
    "        {\"type\": \"text\", \"text\": \"Product Title:\"},\n",
    "        {\"type\": \"text\", \"text\": product_title},\n",
    "        {\"type\": \"text\", \"text\": \"Product Images:\"}\n",
    "    ]\n",
    "    \n",
    "    for img_base64, m_type in zip(product_images_base64, media_type):\n",
    "        user_content.append({\n",
    "            \"type\": \"image\",\n",
    "            \"source\": {\n",
    "                \"type\": \"base64\",\n",
    "                \"media_type\": m_type,\n",
    "                \"data\": img_base64\n",
    "            }\n",
    "        })\n",
    "\n",
    "    user_content.append({\"type\": \"text\", \"text\": \"Based on the product images, product title, and guidelines provided, write a compelling product description. Present your final product description within <tagline> and <why_youll_love_it> tags.\"})\n",
    "    \n",
    "    acutal_prompt.append({\n",
    "            \"role\": \"user\",\n",
    "            \"content\": user_content\n",
    "        })\n",
    "    \n",
    "    \n",
    "    return acutal_prompt"
   ]
  },
  {
   "cell_type": "code",
   "execution_count": null,
   "metadata": {},
   "outputs": [],
   "source": [
    "prompt_example = create_example_prompt(df_example)\n",
    "first_product = df.iloc[0]\n",
    "acutal_prompt = create_user_prompt(first_product)\n",
    "acutal_prompt\n",
    "\n",
    "message_list = prompt_example + acutal_prompt\n",
    "message_list"
   ]
  },
  {
   "cell_type": "code",
   "execution_count": null,
   "metadata": {},
   "outputs": [],
   "source": [
    "from anthropic import Anthropic\n",
    "load_dotenv()\n",
    "client = Anthropic()\n",
    "MODEL_NAME = \"claude-3-5-sonnet-20240620\""
   ]
  },
  {
   "cell_type": "code",
   "execution_count": null,
   "metadata": {},
   "outputs": [],
   "source": [
    "response = client.messages.create(\n",
    "    model=MODEL_NAME,\n",
    "    max_tokens=4096,\n",
    "    system = system_prompt,\n",
    "    messages = message_list, \n",
    "    temperature=1\n",
    ")\n",
    "\n",
    "print(response.content[0].text)\n"
   ]
  },
  {
   "cell_type": "code",
   "execution_count": null,
   "metadata": {},
   "outputs": [],
   "source": [
    "# Visualize the prompt (message_list)\n",
    "# https://jsoneditoronline.org/ \n",
    "\n",
    "import random\n",
    "import string\n",
    "\n",
    "def generate_random_string(length=10):\n",
    "    return ''.join(random.choices(string.ascii_letters + string.digits, k=length))\n",
    "\n",
    "for message in message_list:\n",
    "    if message['role'] == 'user':\n",
    "        for content in message['content']:\n",
    "            if content['type'] == 'image':\n",
    "                content['source']['data'] = generate_random_string()\n",
    "\n",
    "updated_message_list = message_list\n",
    "updated_message_list\n"
   ]
  },
  {
   "cell_type": "markdown",
   "metadata": {},
   "source": [
    "## Automated & Structural Output"
   ]
  },
  {
   "cell_type": "code",
   "execution_count": 9,
   "metadata": {},
   "outputs": [
    {
     "data": {
      "text/html": [
       "<div>\n",
       "<style scoped>\n",
       "    .dataframe tbody tr th:only-of-type {\n",
       "        vertical-align: middle;\n",
       "    }\n",
       "\n",
       "    .dataframe tbody tr th {\n",
       "        vertical-align: top;\n",
       "    }\n",
       "\n",
       "    .dataframe thead th {\n",
       "        text-align: right;\n",
       "    }\n",
       "</style>\n",
       "<table border=\"1\" class=\"dataframe\">\n",
       "  <thead>\n",
       "    <tr style=\"text-align: right;\">\n",
       "      <th></th>\n",
       "      <th>address</th>\n",
       "      <th>product_title</th>\n",
       "      <th>product_images</th>\n",
       "    </tr>\n",
       "  </thead>\n",
       "  <tbody>\n",
       "    <tr>\n",
       "      <th>0</th>\n",
       "      <td>https://www.pazzion.com/products/c2257-3-joyce...</td>\n",
       "      <td>Joyce Pearl Patent Slingback Heels</td>\n",
       "      <td>[https://www.pazzion.com/cdn/shop/files/JoyceP...</td>\n",
       "    </tr>\n",
       "    <tr>\n",
       "      <th>1</th>\n",
       "      <td>https://www.pazzion.com/products/122-5-maia-pe...</td>\n",
       "      <td>Maia Pearl Décor Bow Slingbacks Kitten Heels</td>\n",
       "      <td>[https://www.pazzion.com/cdn/shop/files/MaiaPe...</td>\n",
       "    </tr>\n",
       "    <tr>\n",
       "      <th>2</th>\n",
       "      <td>https://www.pazzion.com/products/6313-1-aureli...</td>\n",
       "      <td>Aurelia Strappy Espadrilles</td>\n",
       "      <td>[https://www.pazzion.com/cdn/shop/files/Aureli...</td>\n",
       "    </tr>\n",
       "    <tr>\n",
       "      <th>3</th>\n",
       "      <td>https://www.pazzion.com/products/1919-1-margot...</td>\n",
       "      <td>Margot Tweed Lace-up Espadrilles</td>\n",
       "      <td>[https://www.pazzion.com/cdn/shop/files/Margot...</td>\n",
       "    </tr>\n",
       "    <tr>\n",
       "      <th>4</th>\n",
       "      <td>https://www.pazzion.com/products/3899-9-fallon...</td>\n",
       "      <td>Fallon Leather Ankle Boots</td>\n",
       "      <td>[https://www.pazzion.com/cdn/shop/files/Fallon...</td>\n",
       "    </tr>\n",
       "  </tbody>\n",
       "</table>\n",
       "</div>"
      ],
      "text/plain": [
       "                                             address  \\\n",
       "0  https://www.pazzion.com/products/c2257-3-joyce...   \n",
       "1  https://www.pazzion.com/products/122-5-maia-pe...   \n",
       "2  https://www.pazzion.com/products/6313-1-aureli...   \n",
       "3  https://www.pazzion.com/products/1919-1-margot...   \n",
       "4  https://www.pazzion.com/products/3899-9-fallon...   \n",
       "\n",
       "                                  product_title  \\\n",
       "0            Joyce Pearl Patent Slingback Heels   \n",
       "1  Maia Pearl Décor Bow Slingbacks Kitten Heels   \n",
       "2                   Aurelia Strappy Espadrilles   \n",
       "3              Margot Tweed Lace-up Espadrilles   \n",
       "4                    Fallon Leather Ankle Boots   \n",
       "\n",
       "                                      product_images  \n",
       "0  [https://www.pazzion.com/cdn/shop/files/JoyceP...  \n",
       "1  [https://www.pazzion.com/cdn/shop/files/MaiaPe...  \n",
       "2  [https://www.pazzion.com/cdn/shop/files/Aureli...  \n",
       "3  [https://www.pazzion.com/cdn/shop/files/Margot...  \n",
       "4  [https://www.pazzion.com/cdn/shop/files/Fallon...  "
      ]
     },
     "execution_count": 9,
     "metadata": {},
     "output_type": "execute_result"
    }
   ],
   "source": [
    "with open('prompts/copywriting_system_prompt_v2.txt', 'r') as file:\n",
    "    copywriting_system_prompt_v2 = file.read()\n",
    "\n",
    "with open('prompts/reviewer_system_prompt_v2.txt', 'r') as file:\n",
    "    reviewer_system_prompt_v2 = file.read()\n",
    "\n",
    "with open('prompts/reviewer_user_prompt_a_v2.txt', 'r') as file:\n",
    "    reviewer_user_prompt_a_v2 = file.read()\n",
    "\n",
    "with open('prompts/reviewer_user_prompt_b_v2.txt', 'r') as file:\n",
    "    reviewer_user_prompt_b_v2 = file.read()\n",
    "\n",
    "\n",
    "examples_df = pd.read_csv('examples.csv')\n",
    "examples_df['product_images'] = examples_df['product_images'].apply(convert_string_to_list)\n",
    "example_prompt = create_example_prompt(examples_df)\n",
    "\n",
    "products_df = pd.read_csv('test_products.csv')\n",
    "products_df['product_images'] = products_df['product_images'].apply(convert_string_to_list)\n",
    "products_df.head()"
   ]
  },
  {
   "cell_type": "code",
   "execution_count": 11,
   "metadata": {},
   "outputs": [
    {
     "name": "stdout",
     "output_type": "stream",
     "text": [
      "Product Title: Joyce Pearl Patent Slingback Heels\n",
      "Address: https://www.pazzion.com/products/c2257-3-joyce-pearl-patent-slingback-heels\n",
      "Product Images:\n",
      "https://www.pazzion.com/cdn/shop/files/JoycePearlPatentSlingbackHeels-Beige-1.jpg?v=1705898929\n",
      "https://www.pazzion.com/cdn/shop/files/JoycePearlPatentSlingbackHeels-Beige-2.jpg?v=1705898934\n",
      "https://www.pazzion.com/cdn/shop/files/JoycePearlPatentSlingbackHeels-Beige-3.jpg?v=1705898939\n",
      "https://www.pazzion.com/cdn/shop/files/JoycePearlPatentSlingbackHeels-Beige-4.jpg?v=1705898944\n",
      "https://www.pazzion.com/cdn/shop/files/JoycePearlPatentSlingbackHeels-Beige-5.jpg?v=1705898949\n"
     ]
    },
    {
     "data": {
      "text/html": [
       "<img src=\"https://www.pazzion.com/cdn/shop/files/JoycePearlPatentSlingbackHeels-Beige-1.jpg?v=1705898929\" width=\"400\" height=\"400\"/>"
      ],
      "text/plain": [
       "<IPython.core.display.Image object>"
      ]
     },
     "metadata": {},
     "output_type": "display_data"
    },
    {
     "name": "stdout",
     "output_type": "stream",
     "text": [
      "copywriter_output:\n"
     ]
    },
    {
     "data": {
      "text/html": [
       "<div style='word-wrap: break-word; width: 600;'>These patent leather slingback heels feature a charming buckle adorned with a faux pearl, adding a touch of sophistication to any ensemble. The square-toe design and low block heel provide both style and comfort, making them perfect for all-day wear. Ideal for both work and casual outings, pair them with dresses, skirts, or tailored pants for a polished look.</div>"
      ],
      "text/plain": [
       "<IPython.core.display.HTML object>"
      ]
     },
     "metadata": {},
     "output_type": "display_data"
    },
    {
     "name": "stdout",
     "output_type": "stream",
     "text": [
      "----------------------------------------\n",
      "reviewer_output:\n"
     ]
    },
    {
     "data": {
      "text/html": [
       "<div style='word-wrap: break-word; width: 600;'>Step into timeless elegance with the Joyce Pearl Patent Slingback Heels. Crafted from glossy patent leather, these heels feature a chic buckle topped with a faux pearl, infusing a dash of sophistication into any outfit. The modern square-toe design and low block heel ensure all-day comfort without compromising on style. Ideal for both office wear and casual outings, these versatile heels can be paired effortlessly with dresses, skirts, or tailored pants to achieve a polished look. The adjustable slingback strap provides a secure fit, making these heels a must-have for the fashion-forward individual who values both style and comfort.</div>"
      ],
      "text/plain": [
       "<IPython.core.display.HTML object>"
      ]
     },
     "metadata": {},
     "output_type": "display_data"
    },
    {
     "name": "stdout",
     "output_type": "stream",
     "text": [
      "----------------------------------------\n",
      "Product Title: Maia Pearl Décor Bow Slingbacks Kitten Heels\n",
      "Address: https://www.pazzion.com/products/122-5-maia-pearl-decor-bow-slingbacks-kitten-heels\n",
      "Product Images:\n",
      "https://www.pazzion.com/cdn/shop/files/MaiaPearlDi_corBowSlingbacksKittenHeels-Beige-1.webp?v=1705903988\n",
      "https://www.pazzion.com/cdn/shop/files/MaiaPearlDi_corBowSlingbacksKittenHeels-Beige-2.webp?v=1705903993\n",
      "https://www.pazzion.com/cdn/shop/files/MaiaPearlDi_corBowSlingbacksKittenHeels-Beige-3.webp?v=1705903999\n",
      "https://www.pazzion.com/cdn/shop/files/MaiaPearlDi_corBowSlingbacksKittenHeels-Beige-4.webp?v=1705904009\n",
      "https://www.pazzion.com/cdn/shop/files/MaiaPearlDi_corBowSlingbacksKittenHeels-Beige-5.webp?v=1705904014\n"
     ]
    },
    {
     "data": {
      "text/html": [
       "<img src=\"https://www.pazzion.com/cdn/shop/files/MaiaPearlDi_corBowSlingbacksKittenHeels-Beige-1.webp?v=1705903988\" width=\"400\" height=\"400\"/>"
      ],
      "text/plain": [
       "<IPython.core.display.Image object>"
      ]
     },
     "metadata": {},
     "output_type": "display_data"
    },
    {
     "name": "stdout",
     "output_type": "stream",
     "text": [
      "copywriter_output:\n"
     ]
    },
    {
     "data": {
      "text/html": [
       "<div style='word-wrap: break-word; width: 600;'>Step into elegance with these intricately designed slingbacks. Adorned with delicate pearls and a chic bow, the Maia Pearl Décor Bow Slingbacks Kitten Heels offer a perfect blend of sophistication and comfort. The low kitten heel ensures easy wear throughout the day, while the slingback design provides a secure fit. Pair these stunning heels with anything from cocktail dresses to tailored pants for a graceful, polished look.</div>"
      ],
      "text/plain": [
       "<IPython.core.display.HTML object>"
      ]
     },
     "metadata": {},
     "output_type": "display_data"
    },
    {
     "name": "stdout",
     "output_type": "stream",
     "text": [
      "----------------------------------------\n",
      "reviewer_output:\n"
     ]
    },
    {
     "data": {
      "text/html": [
       "<div style='word-wrap: break-word; width: 600;'>Step into a world of elegance with the Maia Pearl Décor Bow Slingbacks Kitten Heels. These stunning slingbacks feature a delicate mesh adorned with intricate pearl detailing, complemented by a chic bow on the pointed toe. The low kitten heel is perfect for all-day wear, providing both style and comfort. The adjustable slingback strap ensures a secure fit while adding a touch of sophistication. Crafted for the fashion-forward woman, these heels are versatile enough to pair with cocktail dresses, tailored pants, or even casual jeans for a touch of glamour. Feel luxurious and graceful with every step you take.</div>"
      ],
      "text/plain": [
       "<IPython.core.display.HTML object>"
      ]
     },
     "metadata": {},
     "output_type": "display_data"
    },
    {
     "name": "stdout",
     "output_type": "stream",
     "text": [
      "----------------------------------------\n",
      "Product Title: Aurelia Strappy Espadrilles\n",
      "Address: https://www.pazzion.com/products/6313-1-aurelia-strappy-espadrilles\n",
      "Product Images:\n",
      "https://www.pazzion.com/cdn/shop/files/AureliaStrappyEspadrilles-White-1.webp?v=1714644163\n",
      "https://www.pazzion.com/cdn/shop/files/AureliaStrappyEspadrilles-White-2.webp?v=1714644169\n",
      "https://www.pazzion.com/cdn/shop/files/AureliaStrappyEspadrilles-White-3.webp?v=1714644174\n",
      "https://www.pazzion.com/cdn/shop/files/AureliaStrappyEspadrilles-White-4.webp?v=1714644179\n",
      "https://www.pazzion.com/cdn/shop/files/AureliaStrappyEspadrilles-White-5.webp?v=1714644183\n"
     ]
    },
    {
     "data": {
      "text/html": [
       "<img src=\"https://www.pazzion.com/cdn/shop/files/AureliaStrappyEspadrilles-White-1.webp?v=1714644163\" width=\"400\" height=\"400\"/>"
      ],
      "text/plain": [
       "<IPython.core.display.Image object>"
      ]
     },
     "metadata": {},
     "output_type": "display_data"
    },
    {
     "name": "stdout",
     "output_type": "stream",
     "text": [
      "copywriter_output:\n"
     ]
    },
    {
     "data": {
      "text/html": [
       "<div style='word-wrap: break-word; width: 600;'>Aurelia Strappy Espadrilles combine contemporary style with classic comfort. Featuring an intricate strappy design, these espadrilles are crafted with high-quality materials for durability and comfort. The adjustable buckle ensures a secure fit, while the woven espadrille sole adds a touch of bohemian charm. Perfect for pairing with summer dresses, skirts, or casual outfits for a chic and effortless look.</div>"
      ],
      "text/plain": [
       "<IPython.core.display.HTML object>"
      ]
     },
     "metadata": {},
     "output_type": "display_data"
    },
    {
     "name": "stdout",
     "output_type": "stream",
     "text": [
      "----------------------------------------\n",
      "reviewer_output:\n"
     ]
    },
    {
     "data": {
      "text/html": [
       "<div style='word-wrap: break-word; width: 600;'>Step into summer with the Aurelia Strappy Espadrilles, where contemporary chic meets timeless comfort. These espadrilles feature an elegant strappy design, meticulously crafted from premium materials to ensure durability and a soft feel against your skin. The adjustable gold-toned buckle offers a secure, personalized fit, while the woven espadrille sole adds a dash of bohemian flair. Feel the comfort with every step thanks to the cushioned insole and breathable design. Whether you're pairing them with a flowing summer dress, a breezy skirt, or your favorite casual outfit, these espadrilles promise a stylish, effortless look. Perfect for beach getaways, weekend brunches, and exploring new cities. Elevate your summer wardrobe with the Aurelia Strappy Espadrilles and embrace the sunny days in style.</div>"
      ],
      "text/plain": [
       "<IPython.core.display.HTML object>"
      ]
     },
     "metadata": {},
     "output_type": "display_data"
    },
    {
     "name": "stdout",
     "output_type": "stream",
     "text": [
      "----------------------------------------\n",
      "Product Title: Margot Tweed Lace-up Espadrilles\n",
      "Address: https://www.pazzion.com/products/1919-1-margot-tweed-lace-up-espadrilles\n",
      "Product Images:\n",
      "https://www.pazzion.com/cdn/shop/files/MargotTweedLace-upEspadrilles-White-1.jpg?v=1705904414\n",
      "https://www.pazzion.com/cdn/shop/files/MargotTweedLace-upEspadrilles-White-7.webp?v=1707199527\n",
      "https://www.pazzion.com/cdn/shop/files/MargotTweedLace-upEspadrilles-White-2.jpg?v=1707199527\n",
      "https://www.pazzion.com/cdn/shop/files/MargotTweedLace-upEspadrilles-White-6.webp?v=1707199527\n",
      "https://www.pazzion.com/cdn/shop/files/MargotTweedLace-upEspadrilles-White-3.jpg?v=1707199527\n"
     ]
    },
    {
     "data": {
      "text/html": [
       "<img src=\"https://www.pazzion.com/cdn/shop/files/MargotTweedLace-upEspadrilles-White-1.jpg?v=1705904414\" width=\"400\" height=\"400\"/>"
      ],
      "text/plain": [
       "<IPython.core.display.Image object>"
      ]
     },
     "metadata": {},
     "output_type": "display_data"
    },
    {
     "name": "stdout",
     "output_type": "stream",
     "text": [
      "copywriter_output:\n"
     ]
    },
    {
     "data": {
      "text/html": [
       "<div style='word-wrap: break-word; width: 600;'>Embrace effortless elegance with the Margot Tweed Lace-up Espadrilles. These espadrilles feature a sophisticated tweed fabric upper, adding a touch of classic charm to your casual footwear collection. The lace-up design ensures a secure fit, while the espadrille sole provides both comfort and style. Perfect for weekend outings or casual gatherings, these espadrilles are a versatile addition to your wardrobe. Pair them with your favorite jeans, skirts, or dresses for a chic, laid-back look.</div>"
      ],
      "text/plain": [
       "<IPython.core.display.HTML object>"
      ]
     },
     "metadata": {},
     "output_type": "display_data"
    },
    {
     "name": "stdout",
     "output_type": "stream",
     "text": [
      "----------------------------------------\n",
      "reviewer_output:\n"
     ]
    },
    {
     "data": {
      "text/html": [
       "<div style='word-wrap: break-word; width: 600;'>Step out in style with the Margot Tweed Lace-up Espadrilles. Crafted from elegant, sophisticated tweed fabric, these espadrilles are a chic addition to any wardrobe. The slip-on design ensures ease and comfort, while the textured espadrille sole provides a touch of coastal charm. Whether you're brunching with friends or strolling through the farmers' market, these espadrilles offer the perfect blend of casual elegance and comfort. Pair them with denim, flowy skirts, or sundresses for an effortless, laid-back look. \n",
       "\n",
       "Key Features:\n",
       "- Luxurious tweed fabric for a refined touch\n",
       "- Slip-on design for easy wear\n",
       "- Espadrille sole for comfort and style\n",
       "- Versatile for both casual and semi-casual occasions\n",
       "\n",
       "Experience the perfect blend of style and comfort with the Margot Tweed Lace-up Espadrilles. Slip them on and elevate your everyday look!</div>"
      ],
      "text/plain": [
       "<IPython.core.display.HTML object>"
      ]
     },
     "metadata": {},
     "output_type": "display_data"
    },
    {
     "name": "stdout",
     "output_type": "stream",
     "text": [
      "----------------------------------------\n",
      "Product Title: Fallon Leather Ankle Boots\n",
      "Address: https://www.pazzion.com/products/3899-9-fallon-leather-ankle-boots\n",
      "Product Images:\n",
      "https://www.pazzion.com/cdn/shop/files/FallonLeatherAnkleBoots-Beige-1.webp?v=1705892084\n",
      "https://www.pazzion.com/cdn/shop/files/FallonLeatherAnkleBoots-Beige-2.webp?v=1705892090\n",
      "https://www.pazzion.com/cdn/shop/files/FallonLeatherAnkleBoots-Beige-3.webp?v=1705892096\n",
      "https://www.pazzion.com/cdn/shop/files/FallonLeatherAnkleBoots-Beige-4.webp?v=1705892102\n",
      "https://www.pazzion.com/cdn/shop/files/FallonLeatherAnkleBoots-Beige-5.webp?v=1705892109\n"
     ]
    },
    {
     "data": {
      "text/html": [
       "<img src=\"https://www.pazzion.com/cdn/shop/files/FallonLeatherAnkleBoots-Beige-1.webp?v=1705892084\" width=\"400\" height=\"400\"/>"
      ],
      "text/plain": [
       "<IPython.core.display.Image object>"
      ]
     },
     "metadata": {},
     "output_type": "display_data"
    },
    {
     "name": "stdout",
     "output_type": "stream",
     "text": [
      "copywriter_output:\n"
     ]
    },
    {
     "data": {
      "text/html": [
       "<div style='word-wrap: break-word; width: 600;'>Make a statement with these Fallon Leather Ankle Boots. Crafted with premium leather, these boots feature a sleek and minimalist design that exudes sophistication. The subtle block heel adds height without compromising comfort, making them perfect for all-day wear. A back zipper ensures easy on and off, adding a practical touch to these stylish boots. Pair them with everything from jeans to dresses for a chic, modern look.</div>"
      ],
      "text/plain": [
       "<IPython.core.display.HTML object>"
      ]
     },
     "metadata": {},
     "output_type": "display_data"
    },
    {
     "name": "stdout",
     "output_type": "stream",
     "text": [
      "----------------------------------------\n",
      "reviewer_output:\n"
     ]
    },
    {
     "data": {
      "text/html": [
       "<div style='word-wrap: break-word; width: 600;'>Step into sophistication with the Fallon Leather Ankle Boots. Crafted from premium leather, these boots boast a sleek and minimalist design perfect for the modern fashionista. The soft, supple leather promises a luxurious feel, while the subtle block heel offers just the right amount of lift without sacrificing comfort. Perfect for all-day wear, the back zipper ensures effortless on-and-off, adding a touch of practicality to your chic ensemble. From casual jeans to elegant dresses, these boots are your go-to for a polished, contemporary look. Elevate your style game and embrace unparalleled comfort with the Fallon Leather Ankle Boots.</div>"
      ],
      "text/plain": [
       "<IPython.core.display.HTML object>"
      ]
     },
     "metadata": {},
     "output_type": "display_data"
    },
    {
     "name": "stdout",
     "output_type": "stream",
     "text": [
      "----------------------------------------\n",
      "Product Title: Andrina Pearl Espadrille Mules\n",
      "Address: https://www.pazzion.com/products/1919-33-andrina-pearl-espadrille-mules\n",
      "Product Images:\n",
      "https://www.pazzion.com/cdn/shop/files/AndrinaPearlEspadrilleMules-Blue-1.webp?v=1705647916\n",
      "https://www.pazzion.com/cdn/shop/files/AndrinaPearlEspadrilleMules-Blue-2.webp?v=1705647921\n",
      "https://www.pazzion.com/cdn/shop/files/AndrinaPearlEspadrilleMules-Blue-3.webp?v=1705647926\n",
      "https://www.pazzion.com/cdn/shop/files/AndrinaPearlEspadrilleMules-Blue-4.webp?v=1705647931\n",
      "https://www.pazzion.com/cdn/shop/files/AndrinaPearlEspadrilleMules-Blue-5.webp?v=1705647936\n"
     ]
    },
    {
     "data": {
      "text/html": [
       "<img src=\"https://www.pazzion.com/cdn/shop/files/AndrinaPearlEspadrilleMules-Blue-1.webp?v=1705647916\" width=\"400\" height=\"400\"/>"
      ],
      "text/plain": [
       "<IPython.core.display.Image object>"
      ]
     },
     "metadata": {},
     "output_type": "display_data"
    },
    {
     "name": "stdout",
     "output_type": "stream",
     "text": [
      "copywriter_output:\n"
     ]
    },
    {
     "data": {
      "text/html": [
       "<div style='word-wrap: break-word; width: 600;'>Get ready to embrace the sunny days with the Andrina Pearl Espadrille Mules. These mules combine the classic espadrille style with a modern twist, featuring a tweed upper adorned with delicate pearls. The easy slip-on design ensures comfort while the rubber sole provides excellent grip. Perfect for a casual day out or a relaxed evening, these mules will add a touch of elegance to any outfit.</div>"
      ],
      "text/plain": [
       "<IPython.core.display.HTML object>"
      ]
     },
     "metadata": {},
     "output_type": "display_data"
    },
    {
     "name": "stdout",
     "output_type": "stream",
     "text": [
      "----------------------------------------\n",
      "reviewer_output:\n"
     ]
    },
    {
     "data": {
      "text/html": [
       "<div style='word-wrap: break-word; width: 600;'>Step into effortless elegance with the Andrina Pearl Espadrille Mules. Perfect for sunny days, these chic mules blend classic espadrille charm with modern sophistication. The tweed upper, beautifully embellished with delicate pearls, catches the eye and adds a touch of luxury. Designed for all-day comfort, they feature an easy slip-on style and a durable rubber sole that ensures excellent grip. Ideal for a casual brunch or a relaxed evening stroll, these mules effortlessly elevate any outfit. Feel the softness of the woven texture and the gentle sparkle of pearls with every step. Pair them with a sundress for an airy, carefree look or with jeans for a stylish twist on casual chic. Discover the perfect balance of style and comfort with the Andrina Pearl Espadrille Mules.</div>"
      ],
      "text/plain": [
       "<IPython.core.display.HTML object>"
      ]
     },
     "metadata": {},
     "output_type": "display_data"
    },
    {
     "name": "stdout",
     "output_type": "stream",
     "text": [
      "----------------------------------------\n",
      "Product Title: Nikki Supple Leather Slides\n",
      "Address: https://www.pazzion.com/products/6292-9-nikki-supple-leather-slides\n",
      "Product Images:\n",
      "https://www.pazzion.com/cdn/shop/files/NikkiSuppleLeatherSlides-LightYellow-1.jpg?v=1711327281\n",
      "https://www.pazzion.com/cdn/shop/files/NikkiSuppleLeatherSlides-LightYellow-2.jpg?v=1711327275\n",
      "https://www.pazzion.com/cdn/shop/files/NikkiSuppleLeatherSlides-LightYellow-3.jpg?v=1711327262\n",
      "https://www.pazzion.com/cdn/shop/files/NikkiSuppleLeatherSlides-LightYellow-4.jpg?v=1711327256\n",
      "https://www.pazzion.com/cdn/shop/files/NikkiSuppleLeatherSlides-LightYellow-5.jpg?v=1706602982\n"
     ]
    },
    {
     "data": {
      "text/html": [
       "<img src=\"https://www.pazzion.com/cdn/shop/files/NikkiSuppleLeatherSlides-LightYellow-1.jpg?v=1711327281\" width=\"400\" height=\"400\"/>"
      ],
      "text/plain": [
       "<IPython.core.display.Image object>"
      ]
     },
     "metadata": {},
     "output_type": "display_data"
    },
    {
     "name": "stdout",
     "output_type": "stream",
     "text": [
      "copywriter_output:\n"
     ]
    },
    {
     "data": {
      "text/html": [
       "<div style='word-wrap: break-word; width: 600;'>Elevate your casual footwear collection with the Nikki Supple Leather Slides. Crafted from premium lambskin leather, these slides offer unparalleled comfort and a chic, minimalist design. The gathered detailing adds a touch of sophistication, making them perfect for both casual and semi-formal occasions. Slip into these versatile slides and pair them with anything from summer dresses to tailored trousers for a stylish, effortless look.</div>"
      ],
      "text/plain": [
       "<IPython.core.display.HTML object>"
      ]
     },
     "metadata": {},
     "output_type": "display_data"
    },
    {
     "name": "stdout",
     "output_type": "stream",
     "text": [
      "----------------------------------------\n",
      "reviewer_output:\n"
     ]
    },
    {
     "data": {
      "text/html": [
       "<div style='word-wrap: break-word; width: 600;'>Step up your casual footwear game with the Nikki Supple Leather Slides. Crafted from luxurious lambskin leather, these slides envelop your feet in soft, buttery comfort. The intricate gathered detailing adds a dash of sophistication to their minimalist design, making them an ideal choice for both casual afternoons and chic evenings. With a sleek, pointed toe and a versatile cream shade, these slides pair effortlessly with everything from breezy summer dresses to tailored trousers. Perfect for the modern minimalist, they offer the ultimate blend of style and ease. Slip into the Nikki Supple Leather Slides and experience unparalleled comfort and elegance.</div>"
      ],
      "text/plain": [
       "<IPython.core.display.HTML object>"
      ]
     },
     "metadata": {},
     "output_type": "display_data"
    },
    {
     "name": "stdout",
     "output_type": "stream",
     "text": [
      "----------------------------------------\n",
      "Product Title: Vaeda V-Cut Heel Mules\n",
      "Address: https://www.pazzion.com/products/298-2-vaeda-v-cut-heel-mules\n",
      "Product Images:\n",
      "https://www.pazzion.com/cdn/shop/files/VaedaV-CutHeelMules-Beige-1.webp?v=1705912496\n",
      "https://www.pazzion.com/cdn/shop/files/VaedaV-CutHeelMules-Beige-3.webp?v=1705912505\n",
      "https://www.pazzion.com/cdn/shop/files/VaedaV-CutHeelMules-Beige-4.webp?v=1705912509\n",
      "https://www.pazzion.com/cdn/shop/files/VaedaV-CutHeelMules-Beige-5.webp?v=1705912513\n",
      "https://www.pazzion.com/cdn/shop/files/VaedaV-CutHeelMules-Beige-6.webp?v=1705912518\n"
     ]
    },
    {
     "data": {
      "text/html": [
       "<img src=\"https://www.pazzion.com/cdn/shop/files/VaedaV-CutHeelMules-Beige-1.webp?v=1705912496\" width=\"400\" height=\"400\"/>"
      ],
      "text/plain": [
       "<IPython.core.display.Image object>"
      ]
     },
     "metadata": {},
     "output_type": "display_data"
    },
    {
     "name": "stdout",
     "output_type": "stream",
     "text": [
      "copywriter_output:\n"
     ]
    },
    {
     "data": {
      "text/html": [
       "<div style='word-wrap: break-word; width: 600;'>These mules feature an eye-catching V-cut design and a unique gold-studded heel that adds a touch of modern elegance. Crafted from high-quality materials, they offer both comfort and style, making them perfect for both casual and formal occasions. Slip into these chic mules to elevate any outfit effortlessly.</div>"
      ],
      "text/plain": [
       "<IPython.core.display.HTML object>"
      ]
     },
     "metadata": {},
     "output_type": "display_data"
    },
    {
     "name": "stdout",
     "output_type": "stream",
     "text": [
      "----------------------------------------\n",
      "reviewer_output:\n"
     ]
    },
    {
     "data": {
      "text/html": [
       "<div style='word-wrap: break-word; width: 600;'>Step into sophistication with the Vaeda V-Cut Heel Mules. Featuring an avant-garde V-cut design and an exquisite gold-studded heel, these mules are crafted from premium materials to provide unparalleled comfort and style. The sleek silhouette and luxurious finish make them a versatile addition to your wardrobe, perfect for elevating both casual and formal ensembles. The unique heel design not only adds a modern flair but also ensures stability and support. Slip into these statement mules for a chic, trendsetting look that effortlessly complements dresses, tailored pants, or your favorite jeans.</div>"
      ],
      "text/plain": [
       "<IPython.core.display.HTML object>"
      ]
     },
     "metadata": {},
     "output_type": "display_data"
    },
    {
     "name": "stdout",
     "output_type": "stream",
     "text": [
      "----------------------------------------\n",
      "Product Title: Jude Strapped Glossy Block Heels\n",
      "Address: https://www.pazzion.com/products/8376-5a-jude-strapped-glossy-block-heels\n",
      "Product Images:\n",
      "https://www.pazzion.com/cdn/shop/files/JudeStrappedGlossyBlockHeels-Almond-1.webp?v=1720409173\n",
      "https://www.pazzion.com/cdn/shop/files/JudeStrappedGlossyBlockHeels-Almond-3.webp?v=1720409184\n",
      "https://www.pazzion.com/cdn/shop/files/JudeStrappedGlossyBlockHeels-Almond-7.webp?v=1720409201\n",
      "https://www.pazzion.com/cdn/shop/files/JudeStrappedGlossyBlockHeels-Almond-2.webp?v=1720409178\n",
      "https://www.pazzion.com/cdn/shop/files/JudeStrappedGlossyBlockHeels-Almond-6.webp?v=1720409197\n"
     ]
    },
    {
     "data": {
      "text/html": [
       "<img src=\"https://www.pazzion.com/cdn/shop/files/JudeStrappedGlossyBlockHeels-Almond-1.webp?v=1720409173\" width=\"400\" height=\"400\"/>"
      ],
      "text/plain": [
       "<IPython.core.display.Image object>"
      ]
     },
     "metadata": {},
     "output_type": "display_data"
    },
    {
     "name": "stdout",
     "output_type": "stream",
     "text": [
      "copywriter_output:\n"
     ]
    },
    {
     "data": {
      "text/html": [
       "<div style='word-wrap: break-word; width: 600;'>Stay polished and sophisticated with these Mary Jane-inspired block heels. Featuring glossy patent leather material, a comfortable block heel, and a classic strap with a gold-tone heart-shaped buckle, these shoes are perfect for both formal occasions and everyday wear. Pair them with a skirt suit for a professional look or a casual dress for a chic daytime outfit.</div>"
      ],
      "text/plain": [
       "<IPython.core.display.HTML object>"
      ]
     },
     "metadata": {},
     "output_type": "display_data"
    },
    {
     "name": "stdout",
     "output_type": "stream",
     "text": [
      "----------------------------------------\n",
      "reviewer_output:\n"
     ]
    },
    {
     "data": {
      "text/html": [
       "<div style='word-wrap: break-word; width: 600;'>Step into elegance with the Jude Strapped Glossy Block Heels. Crafted from glossy patent leather, these chic block heels feature a timeless Mary Jane design. The standout detail is the gold-tone heart-shaped buckle on the classic strap, adding a touch of playful sophistication. The comfortable block heel provides all-day wearability, making these shoes perfect for both formal events and casual outings. Pair them with a tailored skirt suit for a polished office look or a flowy dress for a stylish daytime ensemble. Experience the blend of comfort and style with every step!</div>"
      ],
      "text/plain": [
       "<IPython.core.display.HTML object>"
      ]
     },
     "metadata": {},
     "output_type": "display_data"
    },
    {
     "name": "stdout",
     "output_type": "stream",
     "text": [
      "----------------------------------------\n",
      "Product Title: Ayla Round-Toe Mary Janes\n",
      "Address: https://www.pazzion.com/products/3020-1-ayla-round-toe-mary-janes\n",
      "Product Images:\n",
      "https://www.pazzion.com/cdn/shop/files/AylaRound-ToeMaryJanes-Beige-1.webp?v=1705649332\n",
      "https://www.pazzion.com/cdn/shop/files/AylaRound-ToeMaryJanes-Beige-6.webp?v=1715764127\n",
      "https://www.pazzion.com/cdn/shop/files/AylaRound-ToeMaryJanes-Beige-3.webp?v=1715764127\n",
      "https://www.pazzion.com/cdn/shop/files/AylaRound-ToeMaryJanes-Beige-4.webp?v=1715764127\n",
      "https://www.pazzion.com/cdn/shop/files/AylaRound-ToeMaryJanes-Beige-5.webp?v=1715764127\n"
     ]
    },
    {
     "data": {
      "text/html": [
       "<img src=\"https://www.pazzion.com/cdn/shop/files/AylaRound-ToeMaryJanes-Beige-1.webp?v=1705649332\" width=\"400\" height=\"400\"/>"
      ],
      "text/plain": [
       "<IPython.core.display.Image object>"
      ]
     },
     "metadata": {},
     "output_type": "display_data"
    },
    {
     "name": "stdout",
     "output_type": "stream",
     "text": [
      "copywriter_output:\n"
     ]
    },
    {
     "data": {
      "text/html": [
       "<div style='word-wrap: break-word; width: 600;'>These classic Mary Janes are updated with a round toe for a contemporary touch. Featuring a contrasting black strap, these flats offer a chic and minimalist look that pairs effortlessly with any outfit. Crafted for all-day comfort, they are perfect for both casual and formal occasions. Style them with a sundress for a day out or with tailored pants for a polished office look.</div>"
      ],
      "text/plain": [
       "<IPython.core.display.HTML object>"
      ]
     },
     "metadata": {},
     "output_type": "display_data"
    },
    {
     "name": "stdout",
     "output_type": "stream",
     "text": [
      "----------------------------------------\n",
      "reviewer_output:\n"
     ]
    },
    {
     "data": {
      "text/html": [
       "<div style='word-wrap: break-word; width: 600;'>Step into timeless elegance with the Ayla Round-Toe Mary Janes. These chic flats combine classic design with a modern twist, featuring a soft round toe and a sleek black strap. Crafted for supreme comfort, they are perfect for all-day wear, whether you're heading to the office or exploring the city. The minimalist design ensures they effortlessly complement any outfit, from a breezy sundress to tailored pants. Made from high-quality materials, these Mary Janes offer a luxurious feel while the contrasting strap adds a touch of sophistication. Embrace versatile style and unparalleled comfort with the Ayla Round-Toe Mary Janes.</div>"
      ],
      "text/plain": [
       "<IPython.core.display.HTML object>"
      ]
     },
     "metadata": {},
     "output_type": "display_data"
    },
    {
     "name": "stdout",
     "output_type": "stream",
     "text": [
      "----------------------------------------\n"
     ]
    }
   ],
   "source": [
    "for index, row in products_df.iterrows():\n",
    "\n",
    "    print(f\"Product Title: {row['product_title']}\")\n",
    "    print(f\"Address: {row['address']}\")\n",
    "    print(\"Product Images:\")\n",
    "    for image_url in row['product_images']:\n",
    "        print(image_url)\n",
    "    \n",
    "    display(Image(url=row['product_images'][0], width=400, height=400))\n",
    "\n",
    "    user_prompt = create_user_prompt(row)\n",
    "    message_list = [{\"role\": \"system\", \"content\": copywriting_system_prompt_v2}] + example_prompt + user_prompt\n",
    "\n",
    "    copywriter_output = describe_image(message_list)\n",
    "    copywriter_output = extract_product_description(copywriter_output)\n",
    "    \n",
    "    print(\"copywriter_output:\")\n",
    "    display(HTML(f\"<div style='word-wrap: break-word; width: 600;'>{copywriter_output}</div>\"))\n",
    "    print(\"-\" * 40)\n",
    "    products_df.at[index, 'copywriter_output'] = copywriter_output\n",
    "\n",
    "    reviewer_output = review_copy(row, copywriter_output)\n",
    "    reviewer_output = extract_product_description(reviewer_output)\n",
    "\n",
    "    print(\"reviewer_output:\")\n",
    "    display(HTML(f\"<div style='word-wrap: break-word; width: 600;'>{reviewer_output}</div>\"))\n",
    "    print(\"-\" * 40)\n",
    "    products_df.at[index, 'reviewer_output'] = reviewer_output\n"
   ]
  },
  {
   "cell_type": "code",
   "execution_count": 12,
   "metadata": {},
   "outputs": [],
   "source": [
    "products_df.to_csv('products_llm_output_v2.csv', index=False, encoding='utf-8')"
   ]
  },
  {
   "cell_type": "code",
   "execution_count": null,
   "metadata": {},
   "outputs": [],
   "source": [
    "products_df.head()"
   ]
  }
 ],
 "metadata": {
  "kernelspec": {
   "display_name": "Python 3",
   "language": "python",
   "name": "python3"
  },
  "language_info": {
   "codemirror_mode": {
    "name": "ipython",
    "version": 3
   },
   "file_extension": ".py",
   "mimetype": "text/x-python",
   "name": "python",
   "nbconvert_exporter": "python",
   "pygments_lexer": "ipython3",
   "version": "3.11.0"
  }
 },
 "nbformat": 4,
 "nbformat_minor": 2
}
